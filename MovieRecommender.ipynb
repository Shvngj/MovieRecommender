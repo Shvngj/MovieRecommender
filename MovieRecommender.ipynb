{
 "cells": [
  {
   "cell_type": "code",
   "execution_count": null,
   "id": "a1497fbc",
   "metadata": {},
   "outputs": [],
   "source": [
    "import pandas as pd\n",
    "metadata = pd.read_csv(r'C:\\Users\\taniy\\Downloads\\MovieRecommender\\movies_metadata.csv',low_memory = False)\n",
    "#print(list(metadata.columns))\n",
    "#['adult', 'belongs_to_collection', 'budget', 'genres', 'homepage', 'id', 'imdb_id', 'original_language', 'original_title', 'overview', 'popularity', 'poster_path', 'production_companies', 'production_countries', 'release_date', 'revenue', 'runtime', 'spoken_languages', 'status', 'tagline', 'title', 'video', 'vote_average', 'vote_count']\n",
    "#print(metadata.size) 1091184\n",
    "#print(metadata.shape) (45466, 24)\n",
    "metadata.iloc[0]"
   ]
  },
  {
   "cell_type": "markdown",
   "id": "78dab71d",
   "metadata": {},
   "source": [
    "   SIMPLE RECOMMENDER"
   ]
  },
  {
   "cell_type": "code",
   "execution_count": null,
   "id": "7b59a414",
   "metadata": {},
   "outputs": [],
   "source": [
    "# Calculating vote average C (average rating) = 5.618207215133889\n",
    "C = metadata['vote_average'].mean() \n",
    "# Minimum number of votes required to be in the chart m = 160\n",
    "m = metadata['vote_count'].quantile(0.9)\n",
    "# Filter out movies with number of votes >= 160 to a new table called q_movies\n",
    "q_movies = metadata.copy().loc[metadata['vote_count']>=m]"
   ]
  },
  {
   "cell_type": "code",
   "execution_count": null,
   "id": "52e73ab7",
   "metadata": {},
   "outputs": [],
   "source": [
    "def weighted_rating(X,m=m,C=C):\n",
    "  v = X['vote_count']\n",
    "  R = X['vote_average']\n",
    "  return ((v/(v+m))*R + (m/(v+m))*C)\n",
    "q_movies['score'] = q_movies.apply(weighted_rating,axis = 1)\n",
    "q_movies = q_movies.sort_values('score',ascending = False)\n",
    "q_movies[['title','vote_count','vote_average','score']].head(20)"
   ]
  },
  {
   "cell_type": "markdown",
   "id": "01ff5e9b",
   "metadata": {},
   "source": [
    "   CONTENT BASED RECOMMENDER"
   ]
  },
  {
   "cell_type": "code",
   "execution_count": null,
   "id": "fbd342b8",
   "metadata": {},
   "outputs": [],
   "source": [
    "print(metadata.shape)"
   ]
  },
  {
   "cell_type": "code",
   "execution_count": null,
   "id": "4511fc86",
   "metadata": {},
   "outputs": [],
   "source": [
    "from sklearn.feature_extraction.text import TfidfVectorizer\n",
    "# Define a TF-IDF Vectorizer Object. Remove all english stop words such as 'the', 'a', 'is'.\n",
    "tfidf = TfidfVectorizer(stop_words = 'english')\n",
    "# Replace NaN with an empty string\n",
    "metadata['overview'] = metadata['overview'].fillna('')\n",
    "# Row : movie overview and Column : words in the 'overview' vocabulary \n",
    "tfidf_matrix = tfidf.fit_transform(metadata['overview'])\n",
    "# print(tfidf_matrix.shape) =  (45466, 75827)\n",
    "# print(tfidf_matrix)\n",
    "\n",
    "# x = tfidf.get_feature_names()   Len(x) = 75827    x is an array that has all the words in the 'overview' vocabulary\n",
    "tfidf.get_feature_names()[5000:5010]"
   ]
  },
  {
   "cell_type": "code",
   "execution_count": null,
   "id": "bea25eb4",
   "metadata": {},
   "outputs": [],
   "source": [
    "from sklearn.metrics.pairwise import linear_kernel\n",
    "cosine_sim = linear_kernel(tfidf_matrix,tfidf_matrix)"
   ]
  },
  {
   "cell_type": "code",
   "execution_count": null,
   "id": "cacde91e",
   "metadata": {},
   "outputs": [],
   "source": [
    "cosine_sim.shape"
   ]
  },
  {
   "cell_type": "code",
   "execution_count": null,
   "id": "b61220ce",
   "metadata": {},
   "outputs": [],
   "source": [
    "metadata.shape"
   ]
  },
  {
   "cell_type": "code",
   "execution_count": null,
   "id": "0585cf0e",
   "metadata": {},
   "outputs": [],
   "source": [
    "indices = pd.Series(metadata.index, index = metadata['title']).drop_duplicates()"
   ]
  },
  {
   "cell_type": "code",
   "execution_count": null,
   "id": "e1e6a676",
   "metadata": {},
   "outputs": [],
   "source": [
    "def get_recommendations(title, cosine_sim):\n",
    "  idx = indices[title]\n",
    "  sim_scores = list(enumerate(cosine_sim[idx]))\n",
    "  sim_scores = sorted(sim_scores,key = lambda x:x[1],reverse = True)\n",
    "  sim_scores = sim_scores[1:11]\n",
    "  movie_indices = [item[0] for item in sim_scores]\n",
    "  return metadata['title'].iloc[movie_indices]\n",
    "# get_recommendations('The Dark Knight Rises',cosine_sim)"
   ]
  },
  {
   "cell_type": "markdown",
   "id": "687a9a81",
   "metadata": {},
   "source": [
    "CREDITS, GENRES, AND KEYWORDS BASED RECOMMENDER"
   ]
  },
  {
   "cell_type": "code",
   "execution_count": null,
   "id": "b29a1112",
   "metadata": {},
   "outputs": [],
   "source": [
    "# Based on the following metadata: the 3 top actors, the director, related genres, and the movie plot keywords.\n",
    "credits = pd.read_csv(r'C:\\Users\\taniy\\Downloads\\MovieRecommender\\credits.csv',low_memory = False)\n",
    "keywords = pd.read_csv(r'C:\\Users\\taniy\\Downloads\\MovieRecommender\\keywords.csv',low_memory = False)\n",
    "metadata = metadata[:25000]\n",
    "credits = credits[:25000]\n",
    "keywords = keywords[:25000]\n",
    "keywords['id'] = keywords['id'].astype('int')\n",
    "credits['id'] = credits['id'].astype('int')\n",
    "metadata = metadata.drop([19730])\n",
    "metadata['id'] = metadata['id'].astype('int')\n",
    "# metadata.shape = (24999, 35)"
   ]
  },
  {
   "cell_type": "code",
   "execution_count": null,
   "id": "3355a541",
   "metadata": {},
   "outputs": [],
   "source": [
    "# added 'cast','crew' from credits.csv and 'keywords' from keywords.csv. All 3 csv files contained 'id'.\n",
    "metadata = metadata.merge(credits,on='id')\n",
    "metadata = metadata.merge(keywords,on='id')\n",
    "# metadata.shape = (28383, 35)"
   ]
  },
  {
   "cell_type": "code",
   "execution_count": null,
   "id": "587230cd",
   "metadata": {},
   "outputs": [],
   "source": [
    "# From the new features; cast, crew, and keywords, you need to extract the three most important actors, the director and the keywords associated with that movie.\n",
    "from ast import literal_eval\n",
    "features = ['cast','crew','keywords','genres']\n",
    "for feature in features:\n",
    "  metadata[feature] = metadata[feature].apply(literal_eval)"
   ]
  },
  {
   "cell_type": "code",
   "execution_count": null,
   "id": "21bdae6e",
   "metadata": {},
   "outputs": [],
   "source": [
    "# From the new features; cast, crew, and keywords, you need to extract the three most important actors, the director and the keywords associated with that movie.\n",
    "\n",
    "import numpy as np\n",
    "\n",
    "def get_director(x):\n",
    "  for i in x:\n",
    "    if i['job'] == 'Director':\n",
    "      return i['name']\n",
    "  return np.nan\n",
    "\n",
    "# Return the top 3 elements or the entire list, whichever is more. List refers to the cast, keywords, and genres.\n",
    "def get_list(x):\n",
    "  if isinstance(x,list):\n",
    "    names = [i['name'] for i in x]\n",
    "    if len(names) > 3: #checking if more than 3 elements exists\n",
    "      names = names[:3]\n",
    "    return names\n",
    "  return []\n",
    "\n",
    "metadata['director'] = metadata['crew'].apply(get_director)\n",
    "features = ['cast','keywords','genres']\n",
    "for feature in features:\n",
    "  metadata[feature] = metadata[feature].apply(get_list)\n",
    "# metadata[['title', 'cast', 'director', 'keywords', 'genres']].head(3)"
   ]
  },
  {
   "cell_type": "code",
   "execution_count": null,
   "id": "4ac8a22b",
   "metadata": {},
   "outputs": [],
   "source": [
    "# Convert cast, keywords, genres and director to lower case and remove spaces\n",
    "def clean_data(x):\n",
    "  if isinstance(x,list):\n",
    "    return [str.lower(i.replace(\" \",\"\")) for i in x]\n",
    "  else:\n",
    "    if isinstance(x,str):\n",
    "      return str.lower(x.replace(\" \",\"\"))\n",
    "    else:\n",
    "      return ''\n",
    "\n",
    "features = ['cast','keywords','genres','director']\n",
    "for feature in features:\n",
    "  metadata[feature] = metadata[feature].apply(clean_data)"
   ]
  },
  {
   "cell_type": "code",
   "execution_count": null,
   "id": "63900252",
   "metadata": {},
   "outputs": [],
   "source": [
    "def create_soup(x):\n",
    "  return ' '.join(x['keywords'])+' '+' '.join(x['cast'])+' '+x['director']+' '+' '.join(x['genres'])\n",
    "metadata['soup'] = metadata.apply(create_soup,axis = 1)"
   ]
  },
  {
   "cell_type": "code",
   "execution_count": null,
   "id": "1695f431",
   "metadata": {},
   "outputs": [],
   "source": [
    "from sklearn.feature_extraction.text import CountVectorizer\n",
    "count = CountVectorizer(stop_words='english')\n",
    "count_matrix = count.fit_transform(metadata['soup'])\n",
    "# count_matrix.shape = (25113, 44751)\n",
    "# there are 44751 vocabularies in the metadata['soup'] that you fed to it."
   ]
  },
  {
   "cell_type": "code",
   "execution_count": null,
   "id": "e6c4358d",
   "metadata": {},
   "outputs": [],
   "source": [
    "from sklearn.metrics.pairwise import cosine_similarity\n",
    "cosine_sim2 = cosine_similarity(count_matrix,count_matrix)"
   ]
  },
  {
   "cell_type": "code",
   "execution_count": null,
   "id": "b44ec3ac",
   "metadata": {},
   "outputs": [],
   "source": [
    "metadata = metadata.reset_index()\n",
    "indices = pd.Series(metadata.index, index = metadata['title'])\n",
    "#get_recommendations('The Dark Knight Rises', cosine_sim2)"
   ]
  }
 ],
 "metadata": {
  "language_info": {
   "codemirror_mode": {
    "name": "ipython",
    "version": 3
   },
   "file_extension": ".py",
   "mimetype": "text/x-python",
   "name": "python",
   "nbconvert_exporter": "python",
   "pygments_lexer": "ipython3",
   "version": "3.9.7"
  }
 },
 "nbformat": 4,
 "nbformat_minor": 5
}
